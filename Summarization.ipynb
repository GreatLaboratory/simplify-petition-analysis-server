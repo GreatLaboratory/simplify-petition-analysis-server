{
 "cells": [
  {
   "cell_type": "markdown",
   "metadata": {
    "id": "WJ3rjlTik5VR"
   },
   "source": [
    "## 1. Sentence Segmentation"
   ]
  },
  {
   "cell_type": "markdown",
   "metadata": {},
   "source": [
    "요약 알고리즘 TextRank를 적용하기 전, 문장 분리와 전처리를 진행한다."
   ]
  },
  {
   "cell_type": "code",
   "execution_count": 1,
   "metadata": {
    "executionInfo": {
     "elapsed": 2572,
     "status": "ok",
     "timestamp": 1606202880496,
     "user": {
      "displayName": "김유민",
      "photoUrl": "",
      "userId": "07984756873607088886"
     },
     "user_tz": -540
    },
    "id": "fWZAy9gTPNK4"
   },
   "outputs": [],
   "source": [
    "que = '''민주당과 정부에 간곡히 청원합니다 자유한국당은 국민의 막대한 세비를 받는 국회의원으로\n",
    "구성 되었음에도 걸핏하면 장왜투쟁과 정부의 입법을 발목잡기를 하고\n",
    "소방에관한 예산을 삭감하여 국민의 안전을 심각하게하며\n",
    "정부가 국민을 위한 정책을 시행하지못하도록 사사건건 방해를 하고있습니다 의원들의 국민에 대한 막말도\n",
    "도를 넘치고있으며 대한민국 의원인지 일본의 의원인지 모를\n",
    "나경원 원내 대표도 국회의원의 자격이 없다고 봅니다\n",
    "정부에서도 그간 자유한국당의 잘못된것을 철저히\n",
    "조사기록하여 정당해산 청구를 하여주십시요 자유한국당에서\n",
    "이미 통진당. 정당해산을한 판례가 있기에 반드시 자유한국당을\n",
    "정당해산 시켜서 나라가 바로 설수있기를 간곡히 청원합니다'''"
   ]
  },
  {
   "cell_type": "code",
   "execution_count": 2,
   "metadata": {
    "colab": {
     "base_uri": "https://localhost:8080/"
    },
    "executionInfo": {
     "elapsed": 11494,
     "status": "ok",
     "timestamp": 1606202893362,
     "user": {
      "displayName": "김유민",
      "photoUrl": "",
      "userId": "07984756873607088886"
     },
     "user_tz": -540
    },
    "id": "L_RGvpCsPutU",
    "outputId": "42cab66d-3684-4d22-fd73-3d34f0af26db"
   },
   "outputs": [
    {
     "name": "stdout",
     "output_type": "stream",
     "text": [
      "Collecting kss\n",
      "  Downloading https://files.pythonhosted.org/packages/fc/bb/4772901b3b934ac204f32a0bd6fc0567871d8378f9bbc7dd5fd5e16c6ee7/kss-1.3.1.tar.gz\n",
      "Building wheels for collected packages: kss\n",
      "  Building wheel for kss (setup.py) ... \u001b[?25l\u001b[?25hdone\n",
      "  Created wheel for kss: filename=kss-1.3.1-cp36-cp36m-linux_x86_64.whl size=251572 sha256=559e34f9b469106e216c23684d39551339f822c3b08f729c687cde822367f800\n",
      "  Stored in directory: /root/.cache/pip/wheels/8b/98/d1/53f75f89925cd95779824778725ee3fa36e7aa55ed26ad54a8\n",
      "Successfully built kss\n",
      "Installing collected packages: kss\n",
      "Successfully installed kss-1.3.1\n"
     ]
    }
   ],
   "source": [
    "!pip install kss"
   ]
  },
  {
   "cell_type": "code",
   "execution_count": 3,
   "metadata": {
    "colab": {
     "base_uri": "https://localhost:8080/",
     "height": 88
    },
    "executionInfo": {
     "elapsed": 2283,
     "status": "ok",
     "timestamp": 1606202901026,
     "user": {
      "displayName": "김유민",
      "photoUrl": "",
      "userId": "07984756873607088886"
     },
     "user_tz": -540
    },
    "id": "1YqgSm01cPKW",
    "outputId": "e3435cec-5526-494b-d72f-5e2936c418a3"
   },
   "outputs": [
    {
     "data": {
      "application/vnd.google.colaboratory.intrinsic+json": {
       "type": "string"
      },
      "text/plain": [
       "'민주당과 정부에 간곡히 청원합니다. 자유한국당은 국민의 막대한 세비를 받는 국회의원으로\\n구성 되었음에도 걸핏하면 장왜투쟁과 정부의 입법을 발목잡기를 하고\\n소방에관한 예산을 삭감하여 국민의 안전을 심각하게하며\\n정부가 국민을 위한 정책을 시행하지못하도록 사사건건 방해를 하고있습니다. 의원들의 국민에 대한 막말도\\n도를 넘치고있으며 대한민국 의원인지 일본의 의원인지 모를\\n나경원 원내 대표도 국회의원의 자격이 없다고 봅니다. 정부에서도 그간 자유한국당의 잘못된것을 철저히\\n조사기록하여 정당해산 청구를 하여주십시요 자유한국당에서\\n이미 통진당 정당해산을한 판례가 있기에 반드시 자유한국당을\\n정당해산 시켜서 나라가 바로 설수있기를 간곡히 청원합니다.'"
      ]
     },
     "execution_count": 3,
     "metadata": {
      "tags": []
     },
     "output_type": "execute_result"
    }
   ],
   "source": [
    "import kss\n",
    "segment = []\n",
    "for sent in kss.split_sentences(que):  #품사 분석을 통한 분리\n",
    "    if \".\" in sent[0:-1]:  # 문장 내 불필요한 온점은 삭제\n",
    "        sent = sent.replace(\".\",\"\")  \n",
    "    if sent[-1] in [\".\", \"?\", \"!\"]:  # 마침표 유무에 따라 구분\n",
    "        sent = sent\n",
    "    else:\n",
    "        sent = sent + \".\"   #분리된 문장 끝에 온점 부여\n",
    "    segment.append(sent)\n",
    "segment = ' '.join(segment)\n",
    "segment"
   ]
  },
  {
   "cell_type": "code",
   "execution_count": null,
   "metadata": {
    "colab": {
     "base_uri": "https://localhost:8080/",
     "height": 35
    },
    "executionInfo": {
     "elapsed": 1103,
     "status": "ok",
     "timestamp": 1606036013821,
     "user": {
      "displayName": "김유민",
      "photoUrl": "",
      "userId": "07984756873607088886"
     },
     "user_tz": -540
    },
    "id": "cI9p1irzNKy-",
    "outputId": "52f86f87-918d-409f-ad7f-24debe98adc9"
   },
   "outputs": [
    {
     "data": {
      "application/vnd.google.colaboratory.intrinsic+json": {
       "type": "string"
      },
      "text/plain": [
       "'자유한국당은 국민의 막대한 세비를 받는 국회의원으로\\n정당해산 시켜서 나라가 바로 설수있기를 간곡히 청원합니다.'"
      ]
     },
     "execution_count": 119,
     "metadata": {
      "tags": []
     },
     "output_type": "execute_result"
    }
   ],
   "source": [
    "# summarize(segment)"
   ]
  },
  {
   "cell_type": "markdown",
   "metadata": {
    "id": "ZNLatLeJk9SW"
   },
   "source": [
    "## 2. Summarization"
   ]
  },
  {
   "cell_type": "markdown",
   "metadata": {
    "id": "a81UVfeq4-qM"
   },
   "source": [
    "### TextRank"
   ]
  },
  {
   "cell_type": "code",
   "execution_count": 4,
   "metadata": {
    "executionInfo": {
     "elapsed": 1117,
     "status": "ok",
     "timestamp": 1606202944527,
     "user": {
      "displayName": "김유민",
      "photoUrl": "",
      "userId": "07984756873607088886"
     },
     "user_tz": -540
    },
    "id": "z30t6EEbZI8E"
   },
   "outputs": [],
   "source": [
    "ans = '''안녕하십니까. 청와대 정무수석 강기정입니다. \n",
    "오늘은 청와대 국민청원 답변을 위해 이 자리에 섰습니다.\n",
    "오늘 제가 드릴 답변은 국민청원 100번째 답변입니다. \n",
    "국민청원 게시판이 만들어진 이래 가장 많은, 무려 183만 여명이 참여한 자유한국당 해산청구 청원과 33만 여명이 참여한 더불어민주당 해산청구 청원, 그리고 ’김무성 의원 내란죄 처벌‘ 청원 등 3건에 대한 답변입니다.\n",
    "답변을 준비하면서 참으로 송구스럽다는 말씀을 드리지 않을 수 없었습니다. \n",
    "\n",
    "\n",
    "우선 정당 해산 청원에 짧은 시간에 이렇게 많은 국민이 참여했다는 것을 보면, 우리 정당과 의회정치에 대한 국민의 준엄한 평가가 내려졌다 해도 과언이 아닙니다.\n",
    "\n",
    "\n",
    "183만과 33만이라는 숫자에서 주권자인 국민의 답답한 심정을 읽을 수 있습니다.\n",
    "\n",
    "\n",
    "정당에 대한 평가는 선거를 통해 내릴 수 있음에도 불구하고 이처럼 국민청원으로 정당 해산을 요구하신 것은 ‘내년 4월 총선까지 기다리기 답답하다’는 질책으로 보입니다.\n",
    "주권자의 뜻을 무겁게 느끼며 답변드립니다. \n",
    "\n",
    "\n",
    "먼저 자유한국당 해산청구 청원부터 살펴보겠습니다. \n",
    "\n",
    "\n",
    "청원인은, 자유한국당이 장외투쟁과 정부의 입법을 발목잡고, 소방 예산을 삭감해 국민의 안전을 심각하게 하며, 정부가 국민을 위한 정책을 시행하지 못하도록 방해하고 있다는 점. \n",
    "의원들의 막말도 도를 넘고 있다는 점을 지적하고 있습니다.\n",
    "\n",
    "\n",
    "이 청원은 2019년 4월 22일 시작돼, 6일 만에 답변기준인 20만명을 넘어섰고, 특히, 물리력을 동원해 패스트트랙지정을 막았던 29일과 30일 이틀 동안에만 100만명의 국민이 청원에 나섰습니다. \n",
    "결국 183만명이라는 최다 참여자 수를 기록하며 마감됐습니다. \n",
    "\n",
    "\n",
    "민주당 해산청구 청원은 같은 달 29일 시작돼 약 33만명이 참여했습니다.\n",
    "\n",
    "\n",
    "청원인은 민주당이 패스트트랙 지정으로 물리적 충돌을 유발했고, 국가보안법 개정 운운하며 국민안전을 심각하게 했으며, 국민을 위한 정책을 내놓지 못하면서 야당이 하는 일을 방해하고, 의원들의 막말과 선거법을 무리하게 처리한 부분을 지적하고 있습니다.\n",
    "\n",
    "\n",
    "우리 헌법 제8조는 정당 설립의 자유를 보장하고, 국가의 보호와 지원을 받는다는 내용을 담고 있습니다. \n",
    "다만 8조 제4항에서 “정당의 목적이나 활동이 민주적 기본질서에 위배될 때 정부는 헌법재판소에 해산을 제소할 수 있고, 정당은 헌법재판소의 결정에 따라 해산될 수 있다”고 규정하고 있습니다. \n",
    "\n",
    "\n",
    "즉 우리 헌법은 정당의 자유로운 설립과 활동을 보장하면서도 동시에 그 한계를 두고 있습니다. \n",
    "\n",
    "\n",
    "이러한 우리 헌법의 위헌정당 해산제도는 독일에서 유래했습니다. \n",
    "2차 세계대전을 거치면서 독일 국민들은 민주주의를 부정하는 “민주주의의 적”은 해산시켜야 한다는 사회적 합의에 이릅니다.\n",
    " \n",
    "\n",
    "그래서 독일기본법에 “정당의 목적이나 추종자의 행태가 자유민주적 기본질서를 침해 또는 부인하거나, \n",
    "독일연방공화국의 존립을 위태롭게 하는 정당은 위헌이고, 위헌 여부는 연방헌법재판소가 판단한다”는 규정을 둔 것입니다.\n",
    "\n",
    "\n",
    "실제로 1952년에 사회주의제국당과 56년에 독일공산당은 해산되었습니다. \n",
    "우리나라의 경우에도 통합진보당 해산사건이 있었습니다. \n",
    "\n",
    "\n",
    "법률적으로 보면, 정당 해산 제소권은 정부에 있습니다.\n",
    "주무 부처인 법무부가 제소의 필요성을 검토해, 국무회의 안건으로 보고하고, 국무회의 심의를 거쳐 대통령이 청구 여부를 결정합니다. \n",
    "정부 제소에 대해 헌법재판소 재판관 6인 이상이 찬성하면 정당은 해산됩니다. \n",
    "\n",
    "\n",
    "정당 해산을 결정하는 과정에서 가장 중요하게 보는 점은, 정당의 목적과 활동이 민주적 기본질서에 위배 되는가? 하는 점입니다. \n",
    "\n",
    "\n",
    "우리 헌법재판소의 판례에 따르면 ‘민주적 기본질서’란, 다원적 세계관에 입각해 모든 폭력적·자의적 지배를 배제하고, 다수를 존중하면서도 소수를 배려하는 민주적 의사결정과 자유·평등을 기본원리로 하여 운영되는 정치질서라고 합니다.\n",
    " \n",
    "\n",
    "더 나아가 판례에서는 단순한 위반이 아닌, 민주적 기본질서에 실질적인 해악을 끼칠 수 있는 구체적 위험을 초래하는 행위가 있어야 해산 대상 정당이 된다는 점을 명시하고 있습니다. \n",
    "\n",
    "\n",
    "지난 4월 임시국회에서 통과된 법안은 ‘0‘건입니다. \n",
    "국회법이 정한 6월 국회는 1/3이 지났지만, 아직도 열리지 않고 있습니다.\n",
    "IMF가 권고하고, 미․중 무역갈등에 따른 경제적 어려움 속에서 편성된 추경안은 48일째 심사조차 못하고 있습니다.\n",
    "국회에는 민생 입법 과제가 산더미처럼 쌓여있습니다. \n",
    "\n",
    "\n",
    "특히나 국회 스스로가 만든 ‘신속처리 안건 지정’, 일명 패스트트랙 지정과정에서 국민들께 큰 실망을 줬던 것도 사실입니다.\n",
    "\n",
    "\n",
    "그래서 국민들은 눈물을 훔치며 회초리를 드시는 어머니가 되어 위헌정당 해산청구라는 초강수를 두셨다고 생각합니다. \n",
    "\n",
    "\n",
    "그렇다면 청원처럼 해산청구 외에는 다른 방법이 없는 걸까요?\n",
    "\n",
    "\n",
    "정부의 정당 해산 청구는 민주주의를 지키기 위한 제도이면서, 동시에 우리 사회의 갈등을 키우고 정당정치가 뿌리내리는데 걸림돌로 작용할 가능성도 있습니다. 그래서 정당에 대한 평가는 주권자인 국민의 몫이라고 생각합니다. \n",
    "\n",
    "\n",
    "헌법8조와 헌법8조 4항은 정당 활동의 자유와 민주적 기본질서를 동시에 추구하고 있습니다. 이 헌법정신을 지키는 주체는 국민이며, 국민은 선거를 통해 주권을 행사합니다.\n",
    "\n",
    "\n",
    "정당해산 청구는 정부의 권한이기도 하지만, 주권자이신 국민의 몫으로 돌려드리는 것이 바람직하다고 봅니다. '''"
   ]
  },
  {
   "cell_type": "code",
   "execution_count": 5,
   "metadata": {
    "colab": {
     "base_uri": "https://localhost:8080/",
     "height": 178
    },
    "executionInfo": {
     "elapsed": 1047,
     "status": "ok",
     "timestamp": 1606202945800,
     "user": {
      "displayName": "김유민",
      "photoUrl": "",
      "userId": "07984756873607088886"
     },
     "user_tz": -540
    },
    "id": "a-wTR4Ed5tSn",
    "outputId": "ffe88912-f697-42c4-e063-b897ce0038e3"
   },
   "outputs": [
    {
     "data": {
      "application/vnd.google.colaboratory.intrinsic+json": {
       "type": "string"
      },
      "text/plain": [
       "'안녕하십니까. 청와대 정무수석 강기정입니다. 오늘은 청와대 국민청원 답변을 위해 이 자리에 섰습니다. 오늘 제가 드릴 답변은 국민청원 100번째 답변입니다. 국민청원 게시판이 만들어진 이래 가장 많은, 무려 183만 여명이 참여한 자유한국당 해산청구 청원과 33만 여명이 참여한 더불어민주당 해산청구 청원, 그리고 ’김무성 의원 내란죄 처벌‘ 청원 등 3건에 대한 답변입니다. 답변을 준비하면서 참으로 송구스럽다는 말씀을 드리지 않을 수 없었습니다. 우선 정당 해산 청원에 짧은 시간에 이렇게 많은 국민이 참여했다는 것을 보면, 우리 정당과 의회정치에 대한 국민의 준엄한 평가가 내려졌다 해도 과언이 아닙니다. 183만과 33만이라는 숫자에서 주권자인 국민의 답답한 심정을 읽을 수 있습니다. 정당에 대한 평가는 선거를 통해 내릴 수 있음에도 불구하고 이처럼 국민청원으로 정당 해산을 요구하신 것은 ‘내년 4월 총선까지 기다리기 답답하다’는 질책으로 보입니다. 주권자의 뜻을 무겁게 느끼며 답변드립니다. 먼저 자유한국당 해산청구 청원부터 살펴보겠습니다. 청원인은, 자유한국당이 장외투쟁과 정부의 입법을 발목잡고, 소방 예산을 삭감해 국민의 안전을 심각하게 하며, 정부가 국민을 위한 정책을 시행하지 못하도록 방해하고 있다는 점 의원들의 막말도 도를 넘고 있다는 점을 지적하고 있습니다. 이 청원은 2019년 4월 22일 시작돼, 6일 만에 답변기준인 20만명을 넘어섰고, 특히, 물리력을 동원해 패스트트랙지정을 막았던 29일과 30일 이틀 동안에만 100만명의 국민이 청원에 나섰습니다. 결국 183만명이라는 최다 참여자 수를 기록하며 마감됐습니다. 민주당 해산청구 청원은 같은 달 29일 시작돼 약 33만명이 참여했습니다. 청원인은 민주당이 패스트트랙 지정으로 물리적 충돌을 유발했고, 국가보안법 개정 운운하며 국민안전을 심각하게 했으며, 국민을 위한 정책을 내놓지 못하면서 야당이 하는 일을 방해하고, 의원들의 막말과 선거법을 무리하게 처리한 부분을 지적하고 있습니다. 우리 헌법 제8조는 정당 설립의 자유를 보장하고, 국가의 보호와 지원을 받는다는 내용을 담고 있습니다. 다만 8조 제4항에서 “정당의 목적이나 활동이 민주적 기본질서에 위배될 때 정부는 헌법재판소에 해산을 제소할 수 있고, 정당은 헌법재판소의 결정에 따라 해산될 수 있다”고 규정하고 있습니다. 즉 우리 헌법은 정당의 자유로운 설립과 활동을 보장하면서도 동시에 그 한계를 두고 있습니다. 이러한 우리 헌법의 위헌정당 해산제도는 독일에서 유래했습니다. 2차 세계대전을 거치면서 독일 국민들은 민주주의를 부정하는 “민주주의의 적”은 해산시켜야 한다는 사회적 합의에 이릅니다. 그래서 독일기본법에 “정당의 목적이나 추종자의 행태가 자유민주적 기본질서를 침해 또는 부인하거나, 독일연방공화국의 존립을 위태롭게 하는 정당은 위헌이고, 위헌 여부는 연방헌법재판소가 판단한다”는 규정을 둔 것입니다. 실제로 1952년에 사회주의제국당과 56년에 독일공산당은 해산되었습니다. 우리나라의 경우에도 통합진보당 해산사건이 있었습니다. 법률적으로 보면, 정당 해산 제소권은 정부에 있습니다. 주무 부처인 법무부가 제소의 필요성을 검토해, 국무회의 안건으로 보고하고, 국무회의 심의를 거쳐 대통령이 청구 여부를 결정합니다. 정부 제소에 대해 헌법재판소 재판관 6인 이상이 찬성하면 정당은 해산됩니다. 정당 해산을 결정하는 과정에서 가장 중요하게 보는 점은, 정당의 목적과 활동이 민주적 기본질서에 위배 되는가? 하는 점입니다. 우리 헌법재판소의 판례에 따르면 ‘민주적 기본질서’란, 다원적 세계관에 입각해 모든 폭력적·자의적 지배를 배제하고, 다수를 존중하면서도 소수를 배려하는 민주적 의사결정과 자유·평등을 기본원리로 하여 운영되는 정치질서라고 합니다. 더 나아가 판례에서는 단순한 위반이 아닌, 민주적 기본질서에 실질적인 해악을 끼칠 수 있는 구체적 위험을 초래하는 행위가 있어야 해산 대상 정당이 된다는 점을 명시하고 있습니다. 지난 4월 임시국회에서 통과된 법안은 ‘0‘건입니다. 국회법이 정한 6월 국회는 1/3이 지났지만, 아직도 열리지 않고 있습니다. IMF가 권고하고, 미․중 무역갈등에 따른 경제적 어려움 속에서 편성된 추경안은 48일째 심사조차 못하고 있습니다. 국회에는 민생 입법 과제가 산더미처럼 쌓여있습니다. 특히나 국회 스스로가 만든 ‘신속처리 안건 지정’, 일명 패스트트랙 지정과정에서 국민들께 큰 실망을 줬던 것도 사실입니다. 그래서 국민들은 눈물을 훔치며 회초리를 드시는 어머니가 되어 위헌정당 해산청구라는 초강수를 두셨다고 생각합니다. 그렇다면 청원처럼 해산청구 외에는 다른 방법이 없는 걸까요? 정부의 정당 해산 청구는 민주주의를 지키기 위한 제도이면서, 동시에 우리 사회의 갈등을 키우고 정당정치가 뿌리내리는데 걸림돌로 작용할 가능성도 있습니다. 그래서 정당에 대한 평가는 주권자인 국민의 몫이라고 생각합니다. 헌법8조와 헌법8조 4항은 정당 활동의 자유와 민주적 기본질서를 동시에 추구하고 있습니다. 이 헌법정신을 지키는 주체는 국민이며, 국민은 선거를 통해 주권을 행사합니다. 정당해산 청구는 정부의 권한이기도 하지만, 주권자이신 국민의 몫으로 돌려드리는 것이 바람직하다고 봅니다.'"
      ]
     },
     "execution_count": 5,
     "metadata": {
      "tags": []
     },
     "output_type": "execute_result"
    }
   ],
   "source": [
    "import kss\n",
    "seg = []\n",
    "for sent in kss.split_sentences(ans):  #품사 분석을 통한 분리\n",
    "    if \".\" in sent[0:-1]:  # 문장 내 불필요한 온점은 삭제\n",
    "        sent = sent.replace(\".\",\"\") \n",
    "    if sent[-1] in [\".\", \"?\", \"!\"]:  # 마침표 유무에 따라 구분\n",
    "        sent = sent\n",
    "    else:\n",
    "        sent = sent + \".\"   #분리된 문장 끝에 온점 부여\n",
    "    seg.append(sent)\n",
    "seg = ' '.join(seg).replace(\"\\n\", \"\")  #하나의 텍스트로 #문장 내 enter 제거\n",
    "seg"
   ]
  },
  {
   "cell_type": "code",
   "execution_count": 6,
   "metadata": {
    "colab": {
     "base_uri": "https://localhost:8080/"
    },
    "executionInfo": {
     "elapsed": 1782,
     "status": "ok",
     "timestamp": 1606202951427,
     "user": {
      "displayName": "김유민",
      "photoUrl": "",
      "userId": "07984756873607088886"
     },
     "user_tz": -540
    },
    "id": "t-MBDA-F5gA3",
    "outputId": "78423df9-73a8-43b2-989f-567a2b52f8f2"
   },
   "outputs": [
    {
     "data": {
      "text/plain": [
       "['오늘은 청와대 국민청원 답변을 위해 이 자리에 섰습니다.',\n",
       " '청원인은, 자유한국당이 장외투쟁과 정부의 입법을 발목잡고, 소방 예산을 삭감해 국민의 안전을 심각하게 하며, 정부가 국민을 위한 정책을 시행하지 못하도록 방해하고 있다는 점 의원들의 막말도 도를 넘고 있다는 점을 지적하고 있습니다.',\n",
       " '다만 8조 제4항에서 “정당의 목적이나 활동이 민주적 기본질서에 위배될 때 정부는 헌법재판소에 해산을 제소할 수 있고, 정당은 헌법재판소의 결정에 따라 해산될 수 있다”고 규정하고 있습니다.',\n",
       " '그래서 정당에 대한 평가는 주권자인 국민의 몫이라고 생각합니다.',\n",
       " '헌법8조와 헌법8조 4항은 정당 활동의 자유와 민주적 기본질서를 동시에 추구하고 있습니다.']"
      ]
     },
     "execution_count": 6,
     "metadata": {
      "tags": []
     },
     "output_type": "execute_result"
    }
   ],
   "source": [
    "from gensim.summarization.summarizer import summarize   #gensim textrank\n",
    "summarize(seg, ratio = 0.15, word_count = 80).split('\\n') "
   ]
  },
  {
   "cell_type": "markdown",
   "metadata": {
    "id": "Fs795ab3zaBY"
   },
   "source": [
    "## 2-1. df 단위로\n",
    "\n"
   ]
  },
  {
   "cell_type": "markdown",
   "metadata": {},
   "source": [
    "청원글 TOP5의 요약 결과를 전반적으로 파악하고자 데이터프레임 단위로 전체 케이스를 확인한다."
   ]
  },
  {
   "cell_type": "code",
   "execution_count": 7,
   "metadata": {
    "colab": {
     "base_uri": "https://localhost:8080/"
    },
    "executionInfo": {
     "elapsed": 20759,
     "status": "ok",
     "timestamp": 1606202979063,
     "user": {
      "displayName": "김유민",
      "photoUrl": "",
      "userId": "07984756873607088886"
     },
     "user_tz": -540
    },
    "id": "46Q52lTVy3S_",
    "outputId": "4e93fbbe-627e-48a6-a112-f899fc8d82fe"
   },
   "outputs": [
    {
     "name": "stdout",
     "output_type": "stream",
     "text": [
      "Mounted at /content/drive/\n"
     ]
    }
   ],
   "source": [
    "from google.colab import drive\n",
    "drive.mount('/content/drive/')"
   ]
  },
  {
   "cell_type": "code",
   "execution_count": 8,
   "metadata": {
    "executionInfo": {
     "elapsed": 1052,
     "status": "ok",
     "timestamp": 1606202982298,
     "user": {
      "displayName": "김유민",
      "photoUrl": "",
      "userId": "07984756873607088886"
     },
     "user_tz": -540
    },
    "id": "1MklhOo2ze8I"
   },
   "outputs": [],
   "source": [
    "import os\n",
    "os.chdir(\"/content/drive/My Drive\")"
   ]
  },
  {
   "cell_type": "code",
   "execution_count": 9,
   "metadata": {
    "executionInfo": {
     "elapsed": 1874,
     "status": "ok",
     "timestamp": 1606202983970,
     "user": {
      "displayName": "김유민",
      "photoUrl": "",
      "userId": "07984756873607088886"
     },
     "user_tz": -540
    },
    "id": "KYUUaOtpzx-O"
   },
   "outputs": [],
   "source": [
    "import pandas as pd\n",
    "df = pd.read_csv(\"./top2.csv\",header=None)\n",
    "df = df.rename(columns = {0: 'category', 1: 'question', 2: 'answer'}, inplace = False)"
   ]
  },
  {
   "cell_type": "markdown",
   "metadata": {
    "id": "r23RHeBZ1x7Q"
   },
   "source": [
    "## 3. Clean Code"
   ]
  },
  {
   "cell_type": "code",
   "execution_count": 10,
   "metadata": {
    "executionInfo": {
     "elapsed": 1075,
     "status": "ok",
     "timestamp": 1606202988030,
     "user": {
      "displayName": "김유민",
      "photoUrl": "",
      "userId": "07984756873607088886"
     },
     "user_tz": -540
    },
    "id": "FzV9349b1zcf"
   },
   "outputs": [],
   "source": [
    "import kss\n",
    "from gensim.summarization.summarizer import summarize   #textrank\n",
    "def summarization(txt):\n",
    "    segment = []\n",
    "    for sent in kss.split_sentences(txt):  #품사 분석을 통한 분리\n",
    "        if \".\" in sent[0:-1]:  # 문장 내 불필요한 온점은 삭제\n",
    "            sent = sent.replace(\".\",\"\")  \n",
    "        if sent[-1] in [\".\", \"?\", \"!\"]:  # 마침표 유무에 따라 구분\n",
    "            sent = sent\n",
    "        else:\n",
    "            sent = sent + \".\"   #분리된 문장 끝에 온점 부여\n",
    "        segment.append(sent)\n",
    "        if len(segment) <= 10:\n",
    "            result = \" \".join(segment).replace(\"\\n\", \"\")  #문장 내 enter 제거\n",
    "        else:\n",
    "            seg_str = \" \".join(segment).replace(\"\\n\", \"\")\n",
    "            result = summarize(seg_str, ratio = 0.15, word_count = 80)  #\\n 처리?  #요약된 문장 수 조정\n",
    "    return result"
   ]
  },
  {
   "cell_type": "code",
   "execution_count": 11,
   "metadata": {
    "colab": {
     "base_uri": "https://localhost:8080/",
     "height": 279
    },
    "executionInfo": {
     "elapsed": 30282,
     "status": "ok",
     "timestamp": 1606203033347,
     "user": {
      "displayName": "김유민",
      "photoUrl": "",
      "userId": "07984756873607088886"
     },
     "user_tz": -540
    },
    "id": "Gits7VGh7DWd",
    "outputId": "a7d04d8b-9d5c-4a57-b371-32d7c0747a4f"
   },
   "outputs": [
    {
     "data": {
      "text/html": [
       "<div>\n",
       "<style scoped>\n",
       "    .dataframe tbody tr th:only-of-type {\n",
       "        vertical-align: middle;\n",
       "    }\n",
       "\n",
       "    .dataframe tbody tr th {\n",
       "        vertical-align: top;\n",
       "    }\n",
       "\n",
       "    .dataframe thead th {\n",
       "        text-align: right;\n",
       "    }\n",
       "</style>\n",
       "<table border=\"1\" class=\"dataframe\">\n",
       "  <thead>\n",
       "    <tr style=\"text-align: right;\">\n",
       "      <th></th>\n",
       "      <th>category</th>\n",
       "      <th>question</th>\n",
       "      <th>answer</th>\n",
       "      <th>que_sum</th>\n",
       "      <th>ans_sum</th>\n",
       "    </tr>\n",
       "  </thead>\n",
       "  <tbody>\n",
       "    <tr>\n",
       "      <th>0</th>\n",
       "      <td>정치개혁</td>\n",
       "      <td>민주당과 정부에 간곡히 청원합니다 자유한국당은 국민의 막대한 세비를 받는 국회의원으...</td>\n",
       "      <td>안녕하십니까. 청와대 정무수석 강기정입니다. 오늘은 청와대 국민청원 답변을 위해 이...</td>\n",
       "      <td>민주당과 정부에 간곡히 청원합니다. 자유한국당은 국민의 막대한 세비를 받는 국회의원...</td>\n",
       "      <td>오늘은 청와대 국민청원 답변을 위해 이 자리에 섰습니다.\\n청원인은, 자유한국당이 ...</td>\n",
       "    </tr>\n",
       "    <tr>\n",
       "      <th>1</th>\n",
       "      <td>NaN</td>\n",
       "      <td>국민의 한 사람으로서 문재인 대통령의 탄핵을 촉구합니다. 이번 우한 폐렴(신종 코로...</td>\n",
       "      <td>안녕하십니까. 디지털소통센터장 강정수입니다. 오늘은 코로나19 대처와 관련해 &lt;대통...</td>\n",
       "      <td>국민의 한 사람으로서 문재인 대통령의 탄핵을 촉구합니다.\\n이번 우한 폐렴(신종 코...</td>\n",
       "      <td>오늘은 코로나19 대처와 관련해 &lt;대통령 응원&gt;, &lt;대통령 탄핵 촉구&gt;, &lt;대통령과...</td>\n",
       "    </tr>\n",
       "    <tr>\n",
       "      <th>2</th>\n",
       "      <td>외교/통일/국방</td>\n",
       "      <td>2012년 난민법 제정으로 인해 외국인은 한달 무비자로 입국할 수 있으나 난민신청자...</td>\n",
       "      <td>&lt;정혜승 뉴미디어 비서관&gt; 안녕하십니까. 뉴미디어비서관 정혜승입니다. 오늘 ‘11시...</td>\n",
       "      <td>하지만 제주도의 경제, 관광활성화의 일환으로 한달 무비자 입국과 달리 난민신청은 아...</td>\n",
       "      <td>&lt;정혜승 뉴미디어 비서관&gt; 엄격한 심사에 따라 난민으로 인정된 이후에도 이질적 문화...</td>\n",
       "    </tr>\n",
       "    <tr>\n",
       "      <th>3</th>\n",
       "      <td>NaN</td>\n",
       "      <td>안녕하세요. 청와대에 청원은 처음해 보는 경험인지라 조금은 어색하고 뭐라 말을 시작...</td>\n",
       "      <td>Q : 안녕하세요. ‘11시50분 청와대입니다‘, 오늘은 지난 25일 막을 내린 평...</td>\n",
       "      <td>어찌하였든 세계인의 축제이자 서울올림픽이후 두번째 올림픽인 만큼 대한민국 국민으로써...</td>\n",
       "      <td>‘11시50분 청와대입니다‘, 오늘은 지난 25일 막을 내린 평창동계올림픽 관련 국...</td>\n",
       "    </tr>\n",
       "    <tr>\n",
       "      <th>4</th>\n",
       "      <td>일자리</td>\n",
       "      <td>우한발 코로나 19때문에 경제가 휘청이는 이 시국에 한 나라의 공기업이라는 한국전력...</td>\n",
       "      <td>안녕하십니까. 디지털소통센터장 강정수입니다. 오늘은 &lt;전자개표기 폐기&gt;와 &lt;지방선거...</td>\n",
       "      <td>우한발 코로나 19때문에 경제가 휘청이는 이 시국에 한 나라의 공기업이라는 한국전력...</td>\n",
       "      <td>청원인께서 제기하신 사전투표용지 발급기 시스템의 신뢰 문제와 전자개표기 폐기 등의 ...</td>\n",
       "    </tr>\n",
       "  </tbody>\n",
       "</table>\n",
       "</div>"
      ],
      "text/plain": [
       "   category  ...                                            ans_sum\n",
       "0      정치개혁  ...  오늘은 청와대 국민청원 답변을 위해 이 자리에 섰습니다.\\n청원인은, 자유한국당이 ...\n",
       "1       NaN  ...  오늘은 코로나19 대처와 관련해 <대통령 응원>, <대통령 탄핵 촉구>, <대통령과...\n",
       "2  외교/통일/국방  ...  <정혜승 뉴미디어 비서관> 엄격한 심사에 따라 난민으로 인정된 이후에도 이질적 문화...\n",
       "3       NaN  ...  ‘11시50분 청와대입니다‘, 오늘은 지난 25일 막을 내린 평창동계올림픽 관련 국...\n",
       "4       일자리  ...  청원인께서 제기하신 사전투표용지 발급기 시스템의 신뢰 문제와 전자개표기 폐기 등의 ...\n",
       "\n",
       "[5 rows x 5 columns]"
      ]
     },
     "execution_count": 11,
     "metadata": {
      "tags": []
     },
     "output_type": "execute_result"
    }
   ],
   "source": [
    "df[\"que_sum\"] = df[\"question\"].apply(lambda x: summarization(x))\n",
    "df[\"ans_sum\"] = df[\"answer\"].apply(lambda x: summarization(x))\n",
    "df.head()"
   ]
  },
  {
   "cell_type": "code",
   "execution_count": 14,
   "metadata": {
    "colab": {
     "base_uri": "https://localhost:8080/",
     "height": 88
    },
    "executionInfo": {
     "elapsed": 1077,
     "status": "ok",
     "timestamp": 1606205109051,
     "user": {
      "displayName": "김유민",
      "photoUrl": "",
      "userId": "07984756873607088886"
     },
     "user_tz": -540
    },
    "id": "EQGiO9ORJE2g",
    "outputId": "f4dc0afc-d505-47a0-e6eb-2cee83798eec"
   },
   "outputs": [
    {
     "data": {
      "application/vnd.google.colaboratory.intrinsic+json": {
       "type": "string"
      },
      "text/plain": [
       "'우한발 코로나 19때문에 경제가 휘청이는 이 시국에 한 나라의 공기업이라는 한국전력공사가 국내 기업에게 도움을 주기는 커녕 유례도 없는 중국 기업의 입찰을 허용시켜 기회를 마련해주는 것, 말이나 된다고 생각하십니까?\\n중국 기업의 입찰을 허용하면 안되는 이유는 1 중국은 세계무역기구 정부 조달협정(GPA)에 가입되어 있지 않다.\\n저가 경쟁력을 앞세운 중국의 업체들이 참여하게 되면 저가 수주가 만연해지게 됩니다.\\n국내 경제가 휘청이는 이 상황에 우리 기업에게 기회를 주시길 바랍니다.\\n우리나라의 공기업인 한국전력공사가 국내 기업의 입찰로 사업을 진행하도록 해주시길 바랍니다.\\n대한민국은 중국의 속국이 아닙니다.'"
      ]
     },
     "execution_count": 14,
     "metadata": {
      "tags": []
     },
     "output_type": "execute_result"
    }
   ],
   "source": [
    "df.que_sum[4]"
   ]
  },
  {
   "cell_type": "code",
   "execution_count": null,
   "metadata": {
    "id": "UH4tgf1xKb0z"
   },
   "outputs": [],
   "source": []
  }
 ],
 "metadata": {
  "colab": {
   "authorship_tag": "ABX9TyPkuaoMnQ3SLdEh5eL78u9k",
   "collapsed_sections": [],
   "name": "Summarization.ipynb",
   "provenance": []
  },
  "kernelspec": {
   "display_name": "Python 3",
   "language": "python",
   "name": "python3"
  },
  "language_info": {
   "codemirror_mode": {
    "name": "ipython",
    "version": 3
   },
   "file_extension": ".py",
   "mimetype": "text/x-python",
   "name": "python",
   "nbconvert_exporter": "python",
   "pygments_lexer": "ipython3",
   "version": "3.7.6"
  }
 },
 "nbformat": 4,
 "nbformat_minor": 1
}
